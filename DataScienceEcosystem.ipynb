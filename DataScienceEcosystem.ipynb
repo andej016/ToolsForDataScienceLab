{
 "cells": [
  {
   "cell_type": "markdown",
   "id": "09c6523e-b44d-4c1d-8749-4ce2361c4825",
   "metadata": {},
   "source": [
    "# Data Science Tools and Ecosystem"
   ]
  },
  {
   "cell_type": "markdown",
   "id": "7952ccce-c42c-45c0-9963-fcb80ea6b4d7",
   "metadata": {},
   "source": [
    "In this notebook, Data Science Tools and Ecosystem are summarized."
   ]
  },
  {
   "cell_type": "markdown",
   "id": "ec914d93-12f3-4078-8614-78ecfcdee4af",
   "metadata": {},
   "source": [
    "**Objectives:**\n",
    "* List popular languages for data science\n",
    "* List popular opensource data science tools\n",
    "* List popular libraries used by data scientists"
   ]
  },
  {
   "cell_type": "markdown",
   "id": "44d9d46a-a458-4303-b59d-0cda244473de",
   "metadata": {},
   "source": [
    "Some of the popular languages that Data Scientists use are:\n",
    "1. R\n",
    "2. Python\n",
    "3. SQL\n",
    "4. Java"
   ]
  },
  {
   "cell_type": "markdown",
   "id": "0b69f2bf-0821-4a45-a210-fc07d27974bf",
   "metadata": {},
   "source": [
    "Some of the commonly used libraries used by Data Scientists include:\n",
    "1. Numpy\n",
    "2. Pandas\n",
    "3. Keras\n",
    "4. scikite-learn\n",
    "5. tensorflow"
   ]
  },
  {
   "cell_type": "markdown",
   "id": "27060739-b201-464c-a030-ab5312e3cc78",
   "metadata": {},
   "source": [
    "|Data Science Tools|\n",
    "|-----|\n",
    "|RStudio|\n",
    "|Jupyter Notebook|\n",
    "|GitHub|"
   ]
  },
  {
   "cell_type": "markdown",
   "id": "bec4c174-c58e-4e36-a1c9-5306af862491",
   "metadata": {},
   "source": [
    "### Below are a few examples of evaluating arithmetic expressions in Python"
   ]
  },
  {
   "cell_type": "code",
   "execution_count": 2,
   "id": "7d0f494e-f0d4-4f75-9914-86de8d9e01a7",
   "metadata": {},
   "outputs": [
    {
     "data": {
      "text/plain": [
       "17"
      ]
     },
     "execution_count": 2,
     "metadata": {},
     "output_type": "execute_result"
    }
   ],
   "source": [
    "#This a simple arithmetic expression to mutiply then add integers\n",
    "(3*4)+5"
   ]
  },
  {
   "cell_type": "code",
   "execution_count": 6,
   "id": "2f509cc4-9a9f-4679-9db8-c1c3bf9e4f53",
   "metadata": {},
   "outputs": [
    {
     "data": {
      "text/plain": [
       "3.3333333333333335"
      ]
     },
     "execution_count": 6,
     "metadata": {},
     "output_type": "execute_result"
    }
   ],
   "source": [
    "#This will convert 200 minutes to hours by diving by 60\n",
    "200/ 60"
   ]
  },
  {
   "cell_type": "markdown",
   "id": "6f6720ae-b141-4a1d-b0b8-d972c339917f",
   "metadata": {},
   "source": [
    "## Author\n",
    "Joseph Anderson"
   ]
  }
 ],
 "metadata": {
  "kernelspec": {
   "display_name": "Python",
   "language": "python",
   "name": "conda-env-python-py"
  },
  "language_info": {
   "codemirror_mode": {
    "name": "ipython",
    "version": 3
   },
   "file_extension": ".py",
   "mimetype": "text/x-python",
   "name": "python",
   "nbconvert_exporter": "python",
   "pygments_lexer": "ipython3",
   "version": "3.7.12"
  }
 },
 "nbformat": 4,
 "nbformat_minor": 5
}
